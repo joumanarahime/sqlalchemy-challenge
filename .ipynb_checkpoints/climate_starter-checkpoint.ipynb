{
 "cells": [
  {
   "cell_type": "code",
   "execution_count": 1,
   "metadata": {},
   "outputs": [],
   "source": [
    "%matplotlib inline\n",
    "from matplotlib import style\n",
    "style.use('fivethirtyeight')\n",
    "import matplotlib.pyplot as plt"
   ]
  },
  {
   "cell_type": "code",
   "execution_count": 2,
   "metadata": {},
   "outputs": [],
   "source": [
    "import numpy as np\n",
    "import pandas as pd"
   ]
  },
  {
   "cell_type": "code",
   "execution_count": 3,
   "metadata": {},
   "outputs": [],
   "source": [
    "import datetime as dt"
   ]
  },
  {
   "cell_type": "markdown",
   "metadata": {},
   "source": [
    "# Reflect Tables into SQLAlchemy ORM"
   ]
  },
  {
   "cell_type": "code",
   "execution_count": 4,
   "metadata": {},
   "outputs": [],
   "source": [
    "# Python SQL toolkit and Object Relational Mapper\n",
    "import sqlalchemy\n",
    "from sqlalchemy.ext.automap import automap_base\n",
    "from sqlalchemy.orm import Session\n",
    "from sqlalchemy import create_engine, func, inspect"
   ]
  },
  {
   "cell_type": "code",
   "execution_count": 5,
   "metadata": {},
   "outputs": [],
   "source": [
    "engine = create_engine(\"sqlite:///Resources/hawaii.sqlite\")"
   ]
  },
  {
   "cell_type": "code",
   "execution_count": 6,
   "metadata": {},
   "outputs": [],
   "source": [
    "# reflect an existing database into a new model\n",
    "Base = automap_base()\n",
    "# reflect the tables\n",
    "Base.prepare(engine, reflect=True)"
   ]
  },
  {
   "cell_type": "code",
   "execution_count": 7,
   "metadata": {},
   "outputs": [
    {
     "data": {
      "text/plain": [
       "['measurement', 'station']"
      ]
     },
     "execution_count": 7,
     "metadata": {},
     "output_type": "execute_result"
    }
   ],
   "source": [
    "# We can view all of the classes that automap found\n",
    "Base.classes.keys()"
   ]
  },
  {
   "cell_type": "code",
   "execution_count": 8,
   "metadata": {},
   "outputs": [],
   "source": [
    "# Save references to each table\n",
    "Measurement = Base.classes.measurement\n",
    "Station = Base.classes.station"
   ]
  },
  {
   "cell_type": "code",
   "execution_count": 9,
   "metadata": {},
   "outputs": [],
   "source": [
    "# Create our session (link) from Python to the DB\n",
    "session = Session(engine)"
   ]
  },
  {
   "cell_type": "markdown",
   "metadata": {},
   "source": [
    "# Exploratory Climate Analysis"
   ]
  },
  {
   "cell_type": "code",
   "execution_count": 10,
   "metadata": {},
   "outputs": [
    {
     "name": "stdout",
     "output_type": "stream",
     "text": [
      "            Precipitation\n",
      "Date                     \n",
      "2016-08-24           0.08\n",
      "2016-08-24            NaN\n",
      "2016-08-24           2.15\n",
      "2016-08-24           2.28\n",
      "2016-08-24           2.15\n",
      "2016-08-24           1.45\n",
      "2016-08-24           1.22\n",
      "2016-08-25           0.08\n",
      "2016-08-25           0.00\n",
      "2016-08-25           0.06\n",
      "2016-08-25           0.00\n",
      "2016-08-25           0.21\n",
      "2016-08-25           0.11\n",
      "2016-08-25           0.08\n",
      "2016-08-26           0.02\n",
      "2016-08-26           0.03\n",
      "2016-08-26           0.01\n",
      "2016-08-26           0.00\n",
      "2016-08-26           0.04\n",
      "2016-08-26           0.00\n",
      "2016-08-27           0.12\n",
      "2016-08-27           0.00\n",
      "2016-08-27           0.18\n",
      "2016-08-27            NaN\n",
      "2016-08-27           0.00\n",
      "2016-08-27           0.02\n",
      "2016-08-28           0.14\n",
      "2016-08-28           0.60\n",
      "2016-08-28           0.14\n",
      "2016-08-28           0.14\n",
      "...                   ...\n",
      "2017-08-16           0.42\n",
      "2017-08-16           0.00\n",
      "2017-08-16           0.07\n",
      "2017-08-16           0.12\n",
      "2017-08-17           0.13\n",
      "2017-08-17           0.00\n",
      "2017-08-17           0.05\n",
      "2017-08-17           0.01\n",
      "2017-08-18           0.00\n",
      "2017-08-18            NaN\n",
      "2017-08-18           0.06\n",
      "2017-08-18           0.00\n",
      "2017-08-19           0.09\n",
      "2017-08-19            NaN\n",
      "2017-08-19           0.00\n",
      "2017-08-19           0.00\n",
      "2017-08-20            NaN\n",
      "2017-08-20           0.00\n",
      "2017-08-20           0.01\n",
      "2017-08-21           0.56\n",
      "2017-08-21           0.02\n",
      "2017-08-21           0.00\n",
      "2017-08-21            NaN\n",
      "2017-08-22           0.50\n",
      "2017-08-22           0.00\n",
      "2017-08-22           0.00\n",
      "2017-08-23           0.08\n",
      "2017-08-23           0.00\n",
      "2017-08-23           0.00\n",
      "2017-08-23           0.45\n",
      "\n",
      "[2223 rows x 1 columns]\n"
     ]
    },
    {
     "data": {
      "image/png": "[encoded data removed]",
      "text/plain": [
       "<Figure size 432x288 with 1 Axes>"
      ]
     },
     "metadata": {
      "needs_background": "light"
     },
     "output_type": "display_data"
    }
   ],
   "source": [
    "# year = dt.datetime.strptime(date[0][0],\"%Y-%m-%d\").year\n",
    "# month = dt.datetime.strptime(date[0][0],\"%Y-%m-%d\").month\n",
    "# day = dt.datetime.strptime(date[0][0],\"%Y-%m-%d\").day\n",
    "\n",
    "# Design a query to retrieve the last 12 months of precipitation data and plot the results\n",
    "max_date = session.execute('select MAX(date) from measurement').fetchall()\n",
    "max_date = max_date[0][0]\n",
    "\n",
    "# Calculate the date 1 year ago from the last data point in the database\n",
    "# Perform a query to retrieve the data and precipitation scores\n",
    "date_stamp = dt.datetime.strptime(max_date,'%Y-%m-%d')\n",
    "year = date_stamp.year\n",
    "month = date_stamp.month\n",
    "day = date_stamp.day\n",
    "\n",
    "prior_year = f'{year-1}-{month:02d}-{day:02d}'\n",
    "\n",
    "#prcp_data = session.execute(f\"select date, prcp from measurement where date BETWEEN '{year-1}-{month:02d}-{day:02d}' AND '{year}-{month:02d}-{day:02d}'\").fetchall()\n",
    "prcp_data = session.execute(f\"select date, prcp from measurement where date > '{prior_year}'\").fetchall()\n",
    "\n",
    "\n",
    "# Save the query results as a Pandas DataFrame and set the index to the date column\n",
    "prcp_df = pd.DataFrame(prcp_data)\n",
    "prcp_df = prcp_df.rename(columns={0:'Date', 1:'Precipitation'})\n",
    "prcp_df = prcp_df.set_index('Date')\n",
    "# prcp_df= prcp_df.dropna()\n",
    "\n",
    "# Sort the dataframe by date\n",
    "prcp_df = prcp_df.sort_values(by='Date')\n",
    "\n",
    "prcp_df.plot()\n",
    "plt.xticks([])\n",
    "print(prcp_df)"
   ]
  },
  {
   "cell_type": "markdown",
   "metadata": {},
   "source": [
    "![precipitation](Images/precipitation.png)"
   ]
  },
  {
   "cell_type": "code",
   "execution_count": 11,
   "metadata": {},
   "outputs": [
    {
     "data": {
      "text/html": [
       "<div>\n",
       "<style scoped>\n",
       "    .dataframe tbody tr th:only-of-type {\n",
       "        vertical-align: middle;\n",
       "    }\n",
       "\n",
       "    .dataframe tbody tr th {\n",
       "        vertical-align: top;\n",
       "    }\n",
       "\n",
       "    .dataframe thead th {\n",
       "        text-align: right;\n",
       "    }\n",
       "</style>\n",
       "<table border=\"1\" class=\"dataframe\">\n",
       "  <thead>\n",
       "    <tr style=\"text-align: right;\">\n",
       "      <th></th>\n",
       "      <th>Precipitation</th>\n",
       "    </tr>\n",
       "  </thead>\n",
       "  <tbody>\n",
       "    <tr>\n",
       "      <th>count</th>\n",
       "      <td>2015.000000</td>\n",
       "    </tr>\n",
       "    <tr>\n",
       "      <th>mean</th>\n",
       "      <td>0.176462</td>\n",
       "    </tr>\n",
       "    <tr>\n",
       "      <th>std</th>\n",
       "      <td>0.460288</td>\n",
       "    </tr>\n",
       "    <tr>\n",
       "      <th>min</th>\n",
       "      <td>0.000000</td>\n",
       "    </tr>\n",
       "    <tr>\n",
       "      <th>25%</th>\n",
       "      <td>0.000000</td>\n",
       "    </tr>\n",
       "    <tr>\n",
       "      <th>50%</th>\n",
       "      <td>0.020000</td>\n",
       "    </tr>\n",
       "    <tr>\n",
       "      <th>75%</th>\n",
       "      <td>0.130000</td>\n",
       "    </tr>\n",
       "    <tr>\n",
       "      <th>max</th>\n",
       "      <td>6.700000</td>\n",
       "    </tr>\n",
       "  </tbody>\n",
       "</table>\n",
       "</div>"
      ],
      "text/plain": [
       "       Precipitation\n",
       "count    2015.000000\n",
       "mean        0.176462\n",
       "std         0.460288\n",
       "min         0.000000\n",
       "25%         0.000000\n",
       "50%         0.020000\n",
       "75%         0.130000\n",
       "max         6.700000"
      ]
     },
     "execution_count": 11,
     "metadata": {},
     "output_type": "execute_result"
    }
   ],
   "source": [
    "# Use Pandas to calcualte the summary statistics for the precipitation data\n",
    "prcp_df.describe()\n"
   ]
  },
  {
   "cell_type": "markdown",
   "metadata": {},
   "source": [
    "![describe](Images/describe.png)"
   ]
  },
  {
   "cell_type": "code",
   "execution_count": 12,
   "metadata": {},
   "outputs": [
    {
     "name": "stdout",
     "output_type": "stream",
     "text": [
      "Station Count = 9\n"
     ]
    }
   ],
   "source": [
    "# Design a query to show how many stations are available in this dataset?\n",
    "station_data = session.execute('Select count(*) from station').fetchall()\n",
    "print(f\"Station Count = {station_data[0][0]}\")\n"
   ]
  },
  {
   "cell_type": "code",
   "execution_count": 13,
   "metadata": {},
   "outputs": [
    {
     "data": {
      "text/plain": [
       "[('USC00519281', 2772),\n",
       " ('USC00519397', 2724),\n",
       " ('USC00513117', 2709),\n",
       " ('USC00519523', 2669),\n",
       " ('USC00516128', 2612),\n",
       " ('USC00514830', 2202),\n",
       " ('USC00511918', 1979),\n",
       " ('USC00517948', 1372),\n",
       " ('USC00518838', 511)]"
      ]
     },
     "execution_count": 13,
     "metadata": {},
     "output_type": "execute_result"
    }
   ],
   "source": [
    "# What are the most active stations? (i.e. what stations have the most rows)?\n",
    "# List the stations and the counts in descending order.\n",
    "active_stations = session.execute('select station, count(*) from measurement group by station order by count(station) desc ').fetchall()\n",
    "active_stations"
   ]
  },
  {
   "cell_type": "code",
   "execution_count": 14,
   "metadata": {},
   "outputs": [
    {
     "name": "stdout",
     "output_type": "stream",
     "text": [
      "The most active station is WAIKIKI 717.2, HI US - USC00519281\n",
      "Lowest Temperature is 54.0\n",
      "Average Temperature is 71.66378066378067\n",
      "Highest Temperature is 85.0\n"
     ]
    }
   ],
   "source": [
    "# Using the station id from the previous query, calculate the lowest temperature recorded, \n",
    "# highest temperature recorded, and average temperature of the most active station?\n",
    "most_active_station = session.execute('select max(query.s), query.station, name from (select station, count(*) as s from measurement group by station) query, station').fetchall()\n",
    "print(f'The most active station is {most_active_station[0][2]} - {most_active_station[0][1]}')\n",
    "\n",
    "\n",
    "cal_temp = session.execute(f\"select min(tobs), max(tobs), avg(tobs) from measurement where station='{most_active_station[0][1]}'\").fetchall()\n",
    "print(f'Lowest Temperature is {cal_temp[0][0]}')\n",
    "print(f'Average Temperature is {cal_temp[0][2]}')\n",
    "print(f'Highest Temperature is {cal_temp[0][1]}')\n",
    "\n"
   ]
  },
  {
   "cell_type": "code",
   "execution_count": 15,
   "metadata": {},
   "outputs": [
    {
     "data": {
      "text/plain": [
       "<matplotlib.axes._subplots.AxesSubplot at 0x1213cdfd0>"
      ]
     },
     "execution_count": 15,
     "metadata": {},
     "output_type": "execute_result"
    },
    {
     "data": {
      "image/png": "[encoded data removed]",
      "text/plain": [
       "<Figure size 432x288 with 1 Axes>"
      ]
     },
     "metadata": {
      "needs_background": "light"
     },
     "output_type": "display_data"
    }
   ],
   "source": [
    "# Choose the station with the highest number of temperature observations.\n",
    "with_highest_temp = session.execute(\"select max(tobs), station from measurement\").fetchall()\n",
    "\n",
    "# Query the last 12 months of temperature observation data for this station and plot the results as a histogram\n",
    "this_station = session.execute(f\"select date, tobs from measurement where station='{most_active_station[0][1]}' and date > '{prior_year}'\").fetchall()\n",
    "\n",
    "station_df = pd.DataFrame(this_station)\n",
    "\n",
    "station_df = station_df.rename(columns={0:'Date', 1:'Tobs'})\n",
    "station_df.plot(kind='hist', bins=12)\n"
   ]
  },
  {
   "cell_type": "markdown",
   "metadata": {},
   "source": [
    "![precipitation](Images/station-histogram.png)"
   ]
  },
  {
   "cell_type": "code",
   "execution_count": 16,
   "metadata": {},
   "outputs": [
    {
     "name": "stdout",
     "output_type": "stream",
     "text": [
      "[(62.0, 69.57142857142857, 74.0)]\n"
     ]
    }
   ],
   "source": [
    "# This function called `calc_temps` will accept start date and end date in the format '%Y-%m-%d' \n",
    "# and return the minimum, average, and maximum temperatures for that range of dates\n",
    "def calc_temps(start_date, end_date):\n",
    "    \"\"\"TMIN, TAVG, and TMAX for a list of dates.\n",
    "    \n",
    "    Args:\n",
    "        start_date (string): A date string in the format %Y-%m-%d\n",
    "        end_date (string): A date string in the format %Y-%m-%d\n",
    "        \n",
    "    Returns:\n",
    "        TMIN, TAVE, and TMAX\n",
    "    \"\"\"\n",
    "    \n",
    "    return session.query(func.min(Measurement.tobs), func.avg(Measurement.tobs), func.max(Measurement.tobs)).\\\n",
    "        filter(Measurement.date >= start_date).filter(Measurement.date <= end_date).all()\n",
    "\n",
    "# function usage example\n",
    "print(calc_temps('2012-02-28', '2012-03-05'))"
   ]
  },
  {
   "cell_type": "code",
   "execution_count": 17,
   "metadata": {},
   "outputs": [
    {
     "data": {
      "text/plain": [
       "[(62.0, 69.27272727272727, 77.0)]"
      ]
     },
     "execution_count": 17,
     "metadata": {},
     "output_type": "execute_result"
    }
   ],
   "source": [
    "# Use your previous function `calc_temps` to calculate the tmin, tavg, and tmax \n",
    "# for your trip using the previous year's data for those same dates.\n",
    "\n",
    "##### 62.0 68.36585365853658 74.0 ######\n",
    "\n",
    "trip_start_date = '2016-12-28'\n",
    "trip_end_date = '2017-01-05'\n",
    "trip_dates = '2016-12-28  2017-01-05'\n",
    "trip_temp = calc_temps(trip_start_date, trip_end_date )\n",
    "trip_temp"
   ]
  },
  {
   "cell_type": "code",
   "execution_count": 18,
   "metadata": {},
   "outputs": [
    {
     "data": {
      "image/png": "[encoded data removed]",
      "text/plain": [
       "<Figure size 432x288 with 1 Axes>"
      ]
     },
     "metadata": {
      "needs_background": "light"
     },
     "output_type": "display_data"
    }
   ],
   "source": [
    "# Plot the results from your previous query as a bar chart. \n",
    "# Use \"Trip Avg Temp\" as your Title\n",
    "# Use the average temperature for the y value\n",
    "# Use the peak-to-peak (tmax-tmin) value as the y error bar (yerr)\n",
    "\n",
    "min_temp = trip_temp[0][0]\n",
    "avg_temp = trip_temp[0][1]\n",
    "max_temp = trip_temp[0][2]\n",
    "\n",
    "min_err = avg_temp - min_temp\n",
    "max_err = max_temp - avg_temp\n",
    "\n",
    "error_bars = np.array([[min_err], [max_err]])\n",
    "\n",
    "plt.bar(trip_dates, avg_temp, yerr=error_bars, color = 'orangered', alpha = .6)\n",
    "plt.ylim(0, 100)\n",
    "plt.xlim(-1.5, 1.5)\n",
    "plt.title('Trip Avg Temp')\n",
    "plt.ylabel('Temp (F)')\n",
    "plt.grid(alpha=.3)\n"
   ]
  },
  {
   "cell_type": "code",
   "execution_count": 19,
   "metadata": {},
   "outputs": [
    {
     "data": {
      "text/html": [
       "<div>\n",
       "<style scoped>\n",
       "    .dataframe tbody tr th:only-of-type {\n",
       "        vertical-align: middle;\n",
       "    }\n",
       "\n",
       "    .dataframe tbody tr th {\n",
       "        vertical-align: top;\n",
       "    }\n",
       "\n",
       "    .dataframe thead th {\n",
       "        text-align: right;\n",
       "    }\n",
       "</style>\n",
       "<table border=\"1\" class=\"dataframe\">\n",
       "  <thead>\n",
       "    <tr style=\"text-align: right;\">\n",
       "      <th></th>\n",
       "      <th>Station</th>\n",
       "      <th>Name</th>\n",
       "      <th>Total Rainfall</th>\n",
       "      <th>Latitude</th>\n",
       "      <th>Longitude</th>\n",
       "      <th>Elevation</th>\n",
       "    </tr>\n",
       "  </thead>\n",
       "  <tbody>\n",
       "    <tr>\n",
       "      <th>0</th>\n",
       "      <td>USC00519281</td>\n",
       "      <td>WAIHEE 837.5, HI US</td>\n",
       "      <td>0.98</td>\n",
       "      <td>21.4517</td>\n",
       "      <td>-157.849</td>\n",
       "      <td>32.9</td>\n",
       "    </tr>\n",
       "    <tr>\n",
       "      <th>1</th>\n",
       "      <td>USC00513117</td>\n",
       "      <td>KANEOHE 838.1, HI US</td>\n",
       "      <td>0.82</td>\n",
       "      <td>21.4234</td>\n",
       "      <td>-157.802</td>\n",
       "      <td>14.6</td>\n",
       "    </tr>\n",
       "    <tr>\n",
       "      <th>2</th>\n",
       "      <td>USC00514830</td>\n",
       "      <td>KUALOA RANCH HEADQUARTERS 886.9, HI US</td>\n",
       "      <td>0.37</td>\n",
       "      <td>21.5213</td>\n",
       "      <td>-157.837</td>\n",
       "      <td>7</td>\n",
       "    </tr>\n",
       "    <tr>\n",
       "      <th>3</th>\n",
       "      <td>USC00516128</td>\n",
       "      <td>MANOA LYON ARBO 785.2, HI US</td>\n",
       "      <td>0.26</td>\n",
       "      <td>21.3331</td>\n",
       "      <td>-157.803</td>\n",
       "      <td>152.4</td>\n",
       "    </tr>\n",
       "    <tr>\n",
       "      <th>4</th>\n",
       "      <td>USC00519523</td>\n",
       "      <td>WAIMANALO EXPERIMENTAL FARM, HI US</td>\n",
       "      <td>0.19</td>\n",
       "      <td>21.3356</td>\n",
       "      <td>-157.711</td>\n",
       "      <td>19.5</td>\n",
       "    </tr>\n",
       "    <tr>\n",
       "      <th>5</th>\n",
       "      <td>USC00519397</td>\n",
       "      <td>WAIKIKI 717.2, HI US</td>\n",
       "      <td>0.01</td>\n",
       "      <td>21.2716</td>\n",
       "      <td>-157.817</td>\n",
       "      <td>3</td>\n",
       "    </tr>\n",
       "    <tr>\n",
       "      <th>6</th>\n",
       "      <td>USC00517948</td>\n",
       "      <td>PEARL CITY, HI US</td>\n",
       "      <td>None</td>\n",
       "      <td>21.3934</td>\n",
       "      <td>-157.975</td>\n",
       "      <td>11.9</td>\n",
       "    </tr>\n",
       "  </tbody>\n",
       "</table>\n",
       "</div>"
      ],
      "text/plain": [
       "       Station                                    Name Total Rainfall  \\\n",
       "0  USC00519281                     WAIHEE 837.5, HI US           0.98   \n",
       "1  USC00513117                    KANEOHE 838.1, HI US           0.82   \n",
       "2  USC00514830  KUALOA RANCH HEADQUARTERS 886.9, HI US           0.37   \n",
       "3  USC00516128            MANOA LYON ARBO 785.2, HI US           0.26   \n",
       "4  USC00519523      WAIMANALO EXPERIMENTAL FARM, HI US           0.19   \n",
       "5  USC00519397                    WAIKIKI 717.2, HI US           0.01   \n",
       "6  USC00517948                       PEARL CITY, HI US           None   \n",
       "\n",
       "  Latitude Longitude Elevation  \n",
       "0  21.4517  -157.849      32.9  \n",
       "1  21.4234  -157.802      14.6  \n",
       "2  21.5213  -157.837         7  \n",
       "3  21.3331  -157.803     152.4  \n",
       "4  21.3356  -157.711      19.5  \n",
       "5  21.2716  -157.817         3  \n",
       "6  21.3934  -157.975      11.9  "
      ]
     },
     "execution_count": 19,
     "metadata": {},
     "output_type": "execute_result"
    }
   ],
   "source": [
    "# Calculate the total amount of rainfall per weather station for your trip dates using the previous year's matching dates.\n",
    "# Sort this in descending order by precipitation amount and list the station, name, latitude, longitude, and elevation\n",
    "cols = [Station.station, \n",
    "         Station.name, \n",
    "         func.sum(Measurement.prcp),\n",
    "         Station.latitude, \n",
    "         Station.longitude, \n",
    "         Station.elevation]\n",
    "\n",
    "previous_trip_start_date = '2015-12-28'\n",
    "previous_trip_end_date = '2016-01-05'\n",
    "\n",
    "rainfall = (session.query(*cols).\\\n",
    "            filter(Station.station==Measurement.station).\\\n",
    "            filter(Measurement.date >= previous_trip_start_date).\\\n",
    "            filter(Measurement.date <= previous_trip_end_date).\\\n",
    "            group_by(Station.station).\\\n",
    "            order_by(func.sum(Measurement.prcp).desc()).all())\n",
    "\n",
    "\n",
    "\n",
    "rainfall_df = pd.DataFrame(np.array(rainfall))\n",
    "rainfall_df = rainfall_df.rename(columns={0:'Station',\n",
    "                                          1: 'Name',\n",
    "                                          2: 'Total Rainfall',\n",
    "                                          3: 'Latitude',\n",
    "                                          4: 'Longitude',\n",
    "                                          5: 'Elevation'})\n",
    "rainfall_df"
   ]
  },
  {
   "cell_type": "markdown",
   "metadata": {},
   "source": [
    "## Optional Challenge Assignment"
   ]
  },
  {
   "cell_type": "code",
   "execution_count": 20,
   "metadata": {},
   "outputs": [
    {
     "data": {
      "text/plain": [
       "[(62.0, 69.15384615384616, 77.0)]"
      ]
     },
     "execution_count": 20,
     "metadata": {},
     "output_type": "execute_result"
    }
   ],
   "source": [
    "# Create a query that will calculate the daily normals \n",
    "# (i.e. the averages for tmin, tmax, and tavg for all historic data matching a specific month and day)\n",
    "\n",
    "def daily_normals(date):\n",
    "    \"\"\"Daily Normals.\n",
    "    \n",
    "    Args:\n",
    "        date (str): A date string in the format '%m-%d'\n",
    "        \n",
    "    Returns:\n",
    "        A list of tuples containing the daily normals, tmin, tavg, and tmax\n",
    "    \n",
    "    \"\"\"\n",
    "    \n",
    "    sel = [func.min(Measurement.tobs), func.avg(Measurement.tobs), func.max(Measurement.tobs)]\n",
    "    return session.query(*sel).filter(func.strftime(\"%m-%d\", Measurement.date) == date).all()\n",
    "    \n",
    "daily_normals(\"01-01\")"
   ]
  },
  {
   "cell_type": "code",
   "execution_count": 21,
   "metadata": {},
   "outputs": [],
   "source": [
    "# calculate the daily normals for your trip\n",
    "# push each tuple of calculations into a list called `normals`\n",
    "\n",
    "# Set the start and end date of the trip\n",
    "\n",
    "# Use the start and end date to create a range of dates\n",
    "\n",
    "# Stip off the year and save a list of %m-%d strings\n",
    "\n",
    "# Loop through the list of %m-%d strings and calculate the normals for each date\n"
   ]
  },
  {
   "cell_type": "code",
   "execution_count": 22,
   "metadata": {},
   "outputs": [],
   "source": [
    "# Load the previous query results into a Pandas DataFrame and add the `trip_dates` range as the `date` index\n"
   ]
  },
  {
   "cell_type": "code",
   "execution_count": 23,
   "metadata": {},
   "outputs": [],
   "source": [
    "# Plot the daily normals as an area plot with `stacked=False`\n"
   ]
  },
  {
   "cell_type": "code",
   "execution_count": null,
   "metadata": {},
   "outputs": [],
   "source": []
  }
 ],
 "metadata": {
  "kernel_info": {
   "name": "python3"
  },
  "kernelspec": {
   "display_name": "Python 3",
   "language": "python",
   "name": "python3"
  },
  "language_info": {
   "codemirror_mode": {
    "name": "ipython",
    "version": 3
   },
   "file_extension": ".py",
   "mimetype": "text/x-python",
   "name": "python",
   "nbconvert_exporter": "python",
   "pygments_lexer": "ipython3",
   "version": "3.7.3"
  },
  "nteract": {
   "version": "0.12.3"
  },
  "varInspector": {
   "cols": {
    "lenName": 16,
    "lenType": 16,
    "lenVar": 40
   },
   "kernels_config": {
    "python": {
     "delete_cmd_postfix": "",
     "delete_cmd_prefix": "del ",
     "library": "var_list.py",
     "varRefreshCmd": "print(var_dic_list())"
    },
    "r": {
     "delete_cmd_postfix": ") ",
     "delete_cmd_prefix": "rm(",
     "library": "var_list.r",
     "varRefreshCmd": "cat(var_dic_list()) "
    }
   },
   "types_to_exclude": [
    "module",
    "function",
    "builtin_function_or_method",
    "instance",
    "_Feature"
   ],
   "window_display": false
  }
 },
 "nbformat": 4,
 "nbformat_minor": 2
}
